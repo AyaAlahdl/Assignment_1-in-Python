{
  "nbformat": 4,
  "nbformat_minor": 0,
  "metadata": {
    "colab": {
      "provenance": []
    },
    "kernelspec": {
      "name": "python3",
      "display_name": "Python 3"
    },
    "language_info": {
      "name": "python"
    }
  },
  "cells": [
    {
      "cell_type": "markdown",
      "source": [
        "1. Fibonacci Using Recursion\n"
      ],
      "metadata": {
        "id": "SjlR2V4BL0sR"
      }
    },
    {
      "cell_type": "code",
      "execution_count": 14,
      "metadata": {
        "colab": {
          "base_uri": "https://localhost:8080/"
        },
        "id": "90R-puQrJtrE",
        "outputId": "4cfc6ebe-355c-4a34-d199-34fbfe74d25b"
      },
      "outputs": [
        {
          "output_type": "stream",
          "name": "stdout",
          "text": [
            "[0, 1, 1, 2, 3, 5, 8, 13, 21, 34]\n"
          ]
        }
      ],
      "source": [
        "\n",
        "def fibonacci_series(n):\n",
        "    def fibonacci(n):\n",
        "        if n <= 1:\n",
        "            return n\n",
        "        return fibonacci(n - 1) + fibonacci(n - 2)\n",
        "    return [fibonacci(i) for i in range(n)]\n",
        "\n",
        "\n",
        "print(fibonacci_series(10))"
      ]
    },
    {
      "cell_type": "markdown",
      "source": [
        "2. Remove an Item from a Set\n"
      ],
      "metadata": {
        "id": "FUybJVd2Lyl0"
      }
    },
    {
      "cell_type": "code",
      "source": [
        "my_set = {1, 2, 3, 4, 5}\n",
        "my_set.discard(3)\n",
        "print(my_set)"
      ],
      "metadata": {
        "colab": {
          "base_uri": "https://localhost:8080/"
        },
        "id": "wLOvNZnbJ2kO",
        "outputId": "fe9050f5-5275-43f8-8a04-8451a01b2352"
      },
      "execution_count": 15,
      "outputs": [
        {
          "output_type": "stream",
          "name": "stdout",
          "text": [
            "{1, 2, 4, 5}\n"
          ]
        }
      ]
    },
    {
      "cell_type": "markdown",
      "source": [
        "3. Remove Multiple Items from a Set\n"
      ],
      "metadata": {
        "id": "1XfAaxRhLrKO"
      }
    },
    {
      "cell_type": "code",
      "source": [
        "my_set = {1, 2, 3, 4, 5}\n",
        "items_to_remove = {1, 4}\n",
        "my_set -= items_to_remove\n",
        "print(my_set)\n"
      ],
      "metadata": {
        "colab": {
          "base_uri": "https://localhost:8080/"
        },
        "id": "7YEON1pcJ53h",
        "outputId": "cd1cc6f9-ce5b-4ee0-d8e3-41ad3238bfa8"
      },
      "execution_count": 16,
      "outputs": [
        {
          "output_type": "stream",
          "name": "stdout",
          "text": [
            "{2, 3, 5}\n"
          ]
        }
      ]
    },
    {
      "cell_type": "markdown",
      "source": [
        "4. Find the Index of an Item in a Tuple\n",
        "\n",
        "\n",
        "\n"
      ],
      "metadata": {
        "id": "SK9pVOEjLn8a"
      }
    },
    {
      "cell_type": "code",
      "source": [
        "\n",
        "\n",
        "tuple = ('apple', 'banana', 'orange', 'grape', 'banana')\n",
        "print(tuple.index('orange'))\n",
        "\n"
      ],
      "metadata": {
        "colab": {
          "base_uri": "https://localhost:8080/"
        },
        "id": "XRB6Z0YnKBjS",
        "outputId": "33f32c6b-cad6-47ca-a68a-26bc6ba16be9"
      },
      "execution_count": 18,
      "outputs": [
        {
          "output_type": "stream",
          "name": "stdout",
          "text": [
            "2\n"
          ]
        }
      ]
    },
    {
      "cell_type": "markdown",
      "source": [
        "5. Convert a Sentence into a List of Words\n",
        "\n"
      ],
      "metadata": {
        "id": "H2tVivDGLgk4"
      }
    },
    {
      "cell_type": "code",
      "source": [
        "sentence = input(\"Enter a sentence: \")\n",
        "words = sentence.split()\n",
        "print(words)\n",
        "\n"
      ],
      "metadata": {
        "colab": {
          "base_uri": "https://localhost:8080/"
        },
        "id": "FgOwxOxwKGiY",
        "outputId": "efbb0c19-f129-4bda-9e59-74dbac1ed64e"
      },
      "execution_count": 20,
      "outputs": [
        {
          "output_type": "stream",
          "name": "stdout",
          "text": [
            "Enter a sentence: ccc vvv nnn\n",
            "['ccc', 'vvv', 'nnn']\n"
          ]
        }
      ]
    },
    {
      "cell_type": "markdown",
      "source": [
        "6. Check if a String is a Palindrome"
      ],
      "metadata": {
        "id": "8ZrJyGORMU7s"
      }
    },
    {
      "cell_type": "code",
      "source": [
        "string = input(\"Enter a string: \")\n",
        "if string == string[::-1]:\n",
        "    print(\"Palindrome\")\n",
        "else:\n",
        "    print(\"Not a Palindrome\")\n",
        "\n"
      ],
      "metadata": {
        "colab": {
          "base_uri": "https://localhost:8080/"
        },
        "id": "mcAeM-jFMT-R",
        "outputId": "20381e37-8c88-40c2-bbf1-6d8aceb10832"
      },
      "execution_count": 22,
      "outputs": [
        {
          "output_type": "stream",
          "name": "stdout",
          "text": [
            "Enter a string: nn\\\n",
            "Not a Palindrome\n"
          ]
        }
      ]
    },
    {
      "cell_type": "markdown",
      "source": [
        "7. Find the Factorial of a Number\n"
      ],
      "metadata": {
        "id": "ZCNOfOtALdOq"
      }
    },
    {
      "cell_type": "code",
      "source": [
        "def factorial(n):\n",
        "    if n == 0 or n == 1:\n",
        "        return 1\n",
        "    return n * factorial(n - 1)\n",
        "\n",
        "print(factorial(5))\n"
      ],
      "metadata": {
        "colab": {
          "base_uri": "https://localhost:8080/"
        },
        "id": "NRnIhKv9KMfi",
        "outputId": "0351c87a-3f69-4450-e4bc-edd04d0cf123"
      },
      "execution_count": 23,
      "outputs": [
        {
          "output_type": "stream",
          "name": "stdout",
          "text": [
            "120\n"
          ]
        }
      ]
    },
    {
      "cell_type": "markdown",
      "source": [
        "\n",
        "8. Create a List of Squares of Numbers from 1 to 10\n"
      ],
      "metadata": {
        "id": "B2FnGlqyLUg_"
      }
    },
    {
      "cell_type": "code",
      "source": [
        "squares = [x**2 for x in range(1, 11)]\n",
        "print(squares)\n",
        "\n"
      ],
      "metadata": {
        "colab": {
          "base_uri": "https://localhost:8080/"
        },
        "id": "Vm35pvfWKTnD",
        "outputId": "bcdb87da-f631-4dd8-f649-56d321170684"
      },
      "execution_count": 26,
      "outputs": [
        {
          "output_type": "stream",
          "name": "stdout",
          "text": [
            "[1, 4, 9, 16, 25, 36, 49, 64, 81, 100]\n"
          ]
        }
      ]
    },
    {
      "cell_type": "markdown",
      "source": [
        "9. Sum of Even Numbers in a List\n"
      ],
      "metadata": {
        "id": "8kEZvxexLTgg"
      }
    },
    {
      "cell_type": "code",
      "source": [
        "def sum_even_numbers(lst):\n",
        "    return sum(num for num in lst if num % 2 == 0)\n",
        "\n",
        "numbers = [1, 2, 3, 4, 5, 6]\n",
        "print(sum_even_numbers(numbers))\n"
      ],
      "metadata": {
        "colab": {
          "base_uri": "https://localhost:8080/"
        },
        "id": "zmu-0B4AKlUa",
        "outputId": "eade4b03-3bb6-43ab-912a-c53dca7de287"
      },
      "execution_count": 24,
      "outputs": [
        {
          "output_type": "stream",
          "name": "stdout",
          "text": [
            "12\n"
          ]
        }
      ]
    },
    {
      "cell_type": "markdown",
      "source": [
        "\n",
        "\n",
        "10. Reverse a List"
      ],
      "metadata": {
        "id": "HWh3fMWSK-TH"
      }
    },
    {
      "cell_type": "code",
      "source": [
        "def reverse_list(lst):\n",
        "    return lst[::-1]\n",
        "\n",
        "\n",
        "lst = [1, 2, 3]\n",
        "print(reverse_list(lst))\n"
      ],
      "metadata": {
        "colab": {
          "base_uri": "https://localhost:8080/"
        },
        "id": "KgOSjY5TKu2I",
        "outputId": "c968e782-5e65-490c-b634-88bd14abc41e"
      },
      "execution_count": 25,
      "outputs": [
        {
          "output_type": "stream",
          "name": "stdout",
          "text": [
            "[3, 2, 1]\n"
          ]
        }
      ]
    },
    {
      "cell_type": "markdown",
      "source": [
        "11. Calculate the Median\n",
        "\n"
      ],
      "metadata": {
        "id": "WznPHSulLKcH"
      }
    },
    {
      "cell_type": "code",
      "source": [
        "\n",
        "\n",
        "def calculate_median(lst):\n",
        "    lst.sort()\n",
        "    mid = len(lst) // 2\n",
        "    if len(lst) % 2 == 0:\n",
        "        return (lst[mid - 1] + lst[mid]) / 2\n",
        "    return lst[mid]\n",
        "\n",
        "\n",
        "numbers = [5, 2, 7, 3, 1]\n",
        "print(calculate_median(numbers))\n"
      ],
      "metadata": {
        "colab": {
          "base_uri": "https://localhost:8080/"
        },
        "id": "PVk82o-7LF4z",
        "outputId": "f0a61fb8-d0d9-4daf-ee2e-c1ef91ebfa0f"
      },
      "execution_count": 27,
      "outputs": [
        {
          "output_type": "stream",
          "name": "stdout",
          "text": [
            "3\n"
          ]
        }
      ]
    },
    {
      "cell_type": "markdown",
      "source": [
        "12. Calculate the Mode\n"
      ],
      "metadata": {
        "id": "FWmjEi05K6oZ"
      }
    },
    {
      "cell_type": "code",
      "source": [
        "\n",
        "from collections import Counter\n",
        "\n",
        "def calculate_mode(lst):\n",
        "    counts = Counter(lst)\n",
        "    max_count = max(counts.values())\n",
        "    return [key for key, value in counts.items() if value == max_count]\n",
        "\n",
        "\n",
        "lst = [5, 2, 7, 3, 2, 1, 5]\n",
        "print(calculate_mode(lst))\n"
      ],
      "metadata": {
        "colab": {
          "base_uri": "https://localhost:8080/"
        },
        "id": "9XgxCB51Kzwg",
        "outputId": "18a9aa66-e3b0-4f89-f6da-1ee57afdb1da"
      },
      "execution_count": 29,
      "outputs": [
        {
          "output_type": "stream",
          "name": "stdout",
          "text": [
            "[5, 2]\n"
          ]
        }
      ]
    },
    {
      "cell_type": "markdown",
      "source": [
        "13. Convert Marks to Grade\n"
      ],
      "metadata": {
        "id": "JZqYMZMEX-EV"
      }
    },
    {
      "cell_type": "code",
      "source": [
        "\n",
        "def convert_to_grade(marks):\n",
        "    if 85 <= marks <= 100:\n",
        "        return \"A\"\n",
        "    elif 75 <= marks < 85:\n",
        "        return \"B\"\n",
        "    elif 65 <= marks < 75:\n",
        "        return \"C\"\n",
        "    elif 50 <= marks < 65:\n",
        "        return \"D\"\n",
        "    else:\n",
        "        return \"F\"\n",
        "\n",
        "\n",
        "marks = int(input(\"Enter marks: \"))\n",
        "print(convert_to_grade(marks))\n",
        "\n"
      ],
      "metadata": {
        "colab": {
          "base_uri": "https://localhost:8080/"
        },
        "id": "i6webWxdX8Ex",
        "outputId": "f913a647-2b65-4dd0-9485-c7eca4e7569a"
      },
      "execution_count": 28,
      "outputs": [
        {
          "output_type": "stream",
          "name": "stdout",
          "text": [
            "Enter marks: 78\n",
            "B\n"
          ]
        }
      ]
    },
    {
      "cell_type": "code",
      "source": [],
      "metadata": {
        "id": "esaL1Tu0X_kq"
      },
      "execution_count": null,
      "outputs": []
    }
  ]
}